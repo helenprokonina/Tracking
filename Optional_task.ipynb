{
 "cells": [
  {
   "cell_type": "code",
   "execution_count": 9,
   "metadata": {
    "collapsed": true,
    "ExecuteTime": {
     "end_time": "2023-07-18T14:01:19.547477900Z",
     "start_time": "2023-07-18T14:01:19.546436700Z"
    }
   },
   "outputs": [],
   "source": [
    "import cv2\n",
    "import pandas as pd\n",
    "import numpy as np\n",
    "import glob\n",
    "\n",
    "import pandas as pd\n",
    "import seaborn as sns\n",
    "from matplotlib import pyplot as plt"
   ]
  },
  {
   "cell_type": "code",
   "execution_count": 3,
   "outputs": [],
   "source": [
    "gt = pd.read_csv(\"Tracking_hw/gt.csv\")"
   ],
   "metadata": {
    "collapsed": false,
    "ExecuteTime": {
     "end_time": "2023-07-18T13:58:44.719148600Z",
     "start_time": "2023-07-18T13:58:44.703977100Z"
    }
   }
  },
  {
   "cell_type": "code",
   "execution_count": 4,
   "outputs": [
    {
     "data": {
      "text/plain": "    frame  id  xmin  ymin  class  visibility  xmax  ymax\n0       1   0   586   447      1    1.000000   671   710\n1       1   1  1056   484      1    0.945950  1092   594\n2       1   2  1091   484      1    1.000000  1122   599\n3       1   3  1016   430      1    0.986870  1056   546\n4       1   4  1101   441      1    0.658430  1139   549\n5       1   5   935   436      1    0.417390   977   550\n6       1   6   442   446      1    1.000000   547   729\n7       1   7   473   460      1    0.166670   562   709\n8       1   8   548   465      1    0.527780   583   558\n9       1  12   418   459      1    0.585370   458   543\n10      1  13   582   456      1    0.111110   617   589\n11     16  14   638   454      1    0.002349   676   584\n12     16  13   581   456      1    0.166670   616   590\n13     16   8   547   464      1    0.222220   582   557\n14     16   7   483   460      1    0.022222   572   709\n15     16   6   446   445      1    1.000000   570   731\n16     16  12   418   459      1    0.682930   458   543\n17     16   4  1100   440      1    0.648320  1138   548\n18     16   3  1014   436      1    1.000000  1054   552\n19     16   2  1090   484      1    1.000000  1122   598\n20     16   1  1055   483      1    0.946430  1091   593\n21     16   0   587   444      1    1.000000   674   711\n22     16   5   933   435      1    0.426090   975   549\n23     31  14   640   456      1    0.000000   679   589\n24     31  13   581   455      1    0.224250   616   591\n25     31  12   419   459      1    1.000000   458   543\n26     31   9   496   456      1    0.000000   523   558\n27     31   8   547   463      1    0.000000   582   556\n28     31   7   500   460      1    0.022222   589   709\n29     31   6   473   444      1    1.000000   587   733",
      "text/html": "<div>\n<style scoped>\n    .dataframe tbody tr th:only-of-type {\n        vertical-align: middle;\n    }\n\n    .dataframe tbody tr th {\n        vertical-align: top;\n    }\n\n    .dataframe thead th {\n        text-align: right;\n    }\n</style>\n<table border=\"1\" class=\"dataframe\">\n  <thead>\n    <tr style=\"text-align: right;\">\n      <th></th>\n      <th>frame</th>\n      <th>id</th>\n      <th>xmin</th>\n      <th>ymin</th>\n      <th>class</th>\n      <th>visibility</th>\n      <th>xmax</th>\n      <th>ymax</th>\n    </tr>\n  </thead>\n  <tbody>\n    <tr>\n      <th>0</th>\n      <td>1</td>\n      <td>0</td>\n      <td>586</td>\n      <td>447</td>\n      <td>1</td>\n      <td>1.000000</td>\n      <td>671</td>\n      <td>710</td>\n    </tr>\n    <tr>\n      <th>1</th>\n      <td>1</td>\n      <td>1</td>\n      <td>1056</td>\n      <td>484</td>\n      <td>1</td>\n      <td>0.945950</td>\n      <td>1092</td>\n      <td>594</td>\n    </tr>\n    <tr>\n      <th>2</th>\n      <td>1</td>\n      <td>2</td>\n      <td>1091</td>\n      <td>484</td>\n      <td>1</td>\n      <td>1.000000</td>\n      <td>1122</td>\n      <td>599</td>\n    </tr>\n    <tr>\n      <th>3</th>\n      <td>1</td>\n      <td>3</td>\n      <td>1016</td>\n      <td>430</td>\n      <td>1</td>\n      <td>0.986870</td>\n      <td>1056</td>\n      <td>546</td>\n    </tr>\n    <tr>\n      <th>4</th>\n      <td>1</td>\n      <td>4</td>\n      <td>1101</td>\n      <td>441</td>\n      <td>1</td>\n      <td>0.658430</td>\n      <td>1139</td>\n      <td>549</td>\n    </tr>\n    <tr>\n      <th>5</th>\n      <td>1</td>\n      <td>5</td>\n      <td>935</td>\n      <td>436</td>\n      <td>1</td>\n      <td>0.417390</td>\n      <td>977</td>\n      <td>550</td>\n    </tr>\n    <tr>\n      <th>6</th>\n      <td>1</td>\n      <td>6</td>\n      <td>442</td>\n      <td>446</td>\n      <td>1</td>\n      <td>1.000000</td>\n      <td>547</td>\n      <td>729</td>\n    </tr>\n    <tr>\n      <th>7</th>\n      <td>1</td>\n      <td>7</td>\n      <td>473</td>\n      <td>460</td>\n      <td>1</td>\n      <td>0.166670</td>\n      <td>562</td>\n      <td>709</td>\n    </tr>\n    <tr>\n      <th>8</th>\n      <td>1</td>\n      <td>8</td>\n      <td>548</td>\n      <td>465</td>\n      <td>1</td>\n      <td>0.527780</td>\n      <td>583</td>\n      <td>558</td>\n    </tr>\n    <tr>\n      <th>9</th>\n      <td>1</td>\n      <td>12</td>\n      <td>418</td>\n      <td>459</td>\n      <td>1</td>\n      <td>0.585370</td>\n      <td>458</td>\n      <td>543</td>\n    </tr>\n    <tr>\n      <th>10</th>\n      <td>1</td>\n      <td>13</td>\n      <td>582</td>\n      <td>456</td>\n      <td>1</td>\n      <td>0.111110</td>\n      <td>617</td>\n      <td>589</td>\n    </tr>\n    <tr>\n      <th>11</th>\n      <td>16</td>\n      <td>14</td>\n      <td>638</td>\n      <td>454</td>\n      <td>1</td>\n      <td>0.002349</td>\n      <td>676</td>\n      <td>584</td>\n    </tr>\n    <tr>\n      <th>12</th>\n      <td>16</td>\n      <td>13</td>\n      <td>581</td>\n      <td>456</td>\n      <td>1</td>\n      <td>0.166670</td>\n      <td>616</td>\n      <td>590</td>\n    </tr>\n    <tr>\n      <th>13</th>\n      <td>16</td>\n      <td>8</td>\n      <td>547</td>\n      <td>464</td>\n      <td>1</td>\n      <td>0.222220</td>\n      <td>582</td>\n      <td>557</td>\n    </tr>\n    <tr>\n      <th>14</th>\n      <td>16</td>\n      <td>7</td>\n      <td>483</td>\n      <td>460</td>\n      <td>1</td>\n      <td>0.022222</td>\n      <td>572</td>\n      <td>709</td>\n    </tr>\n    <tr>\n      <th>15</th>\n      <td>16</td>\n      <td>6</td>\n      <td>446</td>\n      <td>445</td>\n      <td>1</td>\n      <td>1.000000</td>\n      <td>570</td>\n      <td>731</td>\n    </tr>\n    <tr>\n      <th>16</th>\n      <td>16</td>\n      <td>12</td>\n      <td>418</td>\n      <td>459</td>\n      <td>1</td>\n      <td>0.682930</td>\n      <td>458</td>\n      <td>543</td>\n    </tr>\n    <tr>\n      <th>17</th>\n      <td>16</td>\n      <td>4</td>\n      <td>1100</td>\n      <td>440</td>\n      <td>1</td>\n      <td>0.648320</td>\n      <td>1138</td>\n      <td>548</td>\n    </tr>\n    <tr>\n      <th>18</th>\n      <td>16</td>\n      <td>3</td>\n      <td>1014</td>\n      <td>436</td>\n      <td>1</td>\n      <td>1.000000</td>\n      <td>1054</td>\n      <td>552</td>\n    </tr>\n    <tr>\n      <th>19</th>\n      <td>16</td>\n      <td>2</td>\n      <td>1090</td>\n      <td>484</td>\n      <td>1</td>\n      <td>1.000000</td>\n      <td>1122</td>\n      <td>598</td>\n    </tr>\n    <tr>\n      <th>20</th>\n      <td>16</td>\n      <td>1</td>\n      <td>1055</td>\n      <td>483</td>\n      <td>1</td>\n      <td>0.946430</td>\n      <td>1091</td>\n      <td>593</td>\n    </tr>\n    <tr>\n      <th>21</th>\n      <td>16</td>\n      <td>0</td>\n      <td>587</td>\n      <td>444</td>\n      <td>1</td>\n      <td>1.000000</td>\n      <td>674</td>\n      <td>711</td>\n    </tr>\n    <tr>\n      <th>22</th>\n      <td>16</td>\n      <td>5</td>\n      <td>933</td>\n      <td>435</td>\n      <td>1</td>\n      <td>0.426090</td>\n      <td>975</td>\n      <td>549</td>\n    </tr>\n    <tr>\n      <th>23</th>\n      <td>31</td>\n      <td>14</td>\n      <td>640</td>\n      <td>456</td>\n      <td>1</td>\n      <td>0.000000</td>\n      <td>679</td>\n      <td>589</td>\n    </tr>\n    <tr>\n      <th>24</th>\n      <td>31</td>\n      <td>13</td>\n      <td>581</td>\n      <td>455</td>\n      <td>1</td>\n      <td>0.224250</td>\n      <td>616</td>\n      <td>591</td>\n    </tr>\n    <tr>\n      <th>25</th>\n      <td>31</td>\n      <td>12</td>\n      <td>419</td>\n      <td>459</td>\n      <td>1</td>\n      <td>1.000000</td>\n      <td>458</td>\n      <td>543</td>\n    </tr>\n    <tr>\n      <th>26</th>\n      <td>31</td>\n      <td>9</td>\n      <td>496</td>\n      <td>456</td>\n      <td>1</td>\n      <td>0.000000</td>\n      <td>523</td>\n      <td>558</td>\n    </tr>\n    <tr>\n      <th>27</th>\n      <td>31</td>\n      <td>8</td>\n      <td>547</td>\n      <td>463</td>\n      <td>1</td>\n      <td>0.000000</td>\n      <td>582</td>\n      <td>556</td>\n    </tr>\n    <tr>\n      <th>28</th>\n      <td>31</td>\n      <td>7</td>\n      <td>500</td>\n      <td>460</td>\n      <td>1</td>\n      <td>0.022222</td>\n      <td>589</td>\n      <td>709</td>\n    </tr>\n    <tr>\n      <th>29</th>\n      <td>31</td>\n      <td>6</td>\n      <td>473</td>\n      <td>444</td>\n      <td>1</td>\n      <td>1.000000</td>\n      <td>587</td>\n      <td>733</td>\n    </tr>\n  </tbody>\n</table>\n</div>"
     },
     "execution_count": 4,
     "metadata": {},
     "output_type": "execute_result"
    }
   ],
   "source": [
    "gt.head(30)"
   ],
   "metadata": {
    "collapsed": false,
    "ExecuteTime": {
     "end_time": "2023-07-18T13:58:47.036246200Z",
     "start_time": "2023-07-18T13:58:47.000348400Z"
    }
   }
  },
  {
   "cell_type": "code",
   "execution_count": 5,
   "outputs": [
    {
     "data": {
      "text/plain": "id\n12    40\n8     40\n2     40\n3     40\n4     40\n5     40\n1     40\n7     40\n0     39\n9     38\n6     37\n17    36\n13    35\n14    35\n11    35\n15    31\n10    29\n16    26\nName: count, dtype: int64"
     },
     "execution_count": 5,
     "metadata": {},
     "output_type": "execute_result"
    }
   ],
   "source": [
    "gt['id'].value_counts()"
   ],
   "metadata": {
    "collapsed": false,
    "ExecuteTime": {
     "end_time": "2023-07-18T13:58:50.236732300Z",
     "start_time": "2023-07-18T13:58:50.223537400Z"
    }
   }
  },
  {
   "cell_type": "code",
   "execution_count": 49,
   "outputs": [],
   "source": [
    "iter = 18\n",
    "palette = list((sns.color_palette(\"Spectral\", iter)))"
   ],
   "metadata": {
    "collapsed": false,
    "ExecuteTime": {
     "end_time": "2023-07-18T14:24:19.067346200Z",
     "start_time": "2023-07-18T14:24:19.067346200Z"
    }
   }
  },
  {
   "cell_type": "code",
   "execution_count": 50,
   "outputs": [
    {
     "data": {
      "text/plain": "[(0.7295655517108804, 0.12587466359092656, 0.2848135332564398),\n (0.8376778162245291, 0.2467512495194156, 0.308881199538639),\n (0.9044213763936948, 0.34794309880815066, 0.28304498269896194),\n (0.9596309111880047, 0.44744329104190683, 0.2719723183391003),\n (0.9790080738177624, 0.5873894655901576, 0.3365628604382929),\n (0.9926951172625913, 0.7092656670511341, 0.40299884659746243),\n (0.9948481353325644, 0.8169165705497885, 0.4934256055363321),\n (0.9968473663975395, 0.9022683583237217, 0.5850826605151864),\n (0.9990003844675125, 0.9690119184928874, 0.697039600153787),\n (0.9750096116878124, 0.9900038446751249, 0.7100346020761246),\n (0.9211841599384853, 0.9684736639753941, 0.6260668973471745),\n (0.8293733179546331, 0.9312572087658594, 0.6108419838523644),\n (0.7023452518262209, 0.8795847750865053, 0.6366782006920415),\n (0.5697808535178779, 0.8272202998846598, 0.6445982314494426),\n (0.42122260668973477, 0.7690888119953864, 0.6467512495194156),\n (0.31203383314109956, 0.6626682045367166, 0.6876585928489043),\n (0.20007689350249905, 0.5377931564782776, 0.7393310265282584),\n (0.2806612841214917, 0.423760092272203, 0.6892733564013841)]"
     },
     "execution_count": 50,
     "metadata": {},
     "output_type": "execute_result"
    }
   ],
   "source": [
    "palette"
   ],
   "metadata": {
    "collapsed": false,
    "ExecuteTime": {
     "end_time": "2023-07-18T14:24:19.520937300Z",
     "start_time": "2023-07-18T14:24:19.518089800Z"
    }
   }
  },
  {
   "cell_type": "code",
   "execution_count": 53,
   "outputs": [],
   "source": [
    "#to have colors in BGR format (0-255)\n",
    "bgr_palette = []\n",
    "for item in palette:\n",
    "    item = tuple(map(lambda x: int(x*255), item))\n",
    "    bgr_palette.append(item)"
   ],
   "metadata": {
    "collapsed": false,
    "ExecuteTime": {
     "end_time": "2023-07-18T14:24:56.985623700Z",
     "start_time": "2023-07-18T14:24:56.985110100Z"
    }
   }
  },
  {
   "cell_type": "code",
   "execution_count": 54,
   "outputs": [
    {
     "data": {
      "text/plain": "[(186, 32, 72),\n (213, 62, 78),\n (230, 88, 72),\n (244, 114, 69),\n (249, 149, 85),\n (253, 180, 102),\n (253, 208, 125),\n (254, 230, 149),\n (254, 247, 177),\n (248, 252, 181),\n (234, 246, 159),\n (211, 237, 155),\n (179, 224, 162),\n (145, 210, 164),\n (107, 196, 164),\n (79, 168, 175),\n (51, 137, 188),\n (71, 108, 175)]"
     },
     "execution_count": 54,
     "metadata": {},
     "output_type": "execute_result"
    }
   ],
   "source": [
    "bgr_palette"
   ],
   "metadata": {
    "collapsed": false,
    "ExecuteTime": {
     "end_time": "2023-07-18T14:25:00.014330300Z",
     "start_time": "2023-07-18T14:25:00.007439100Z"
    }
   }
  },
  {
   "cell_type": "markdown",
   "source": [
    "Make video with ground truth objects"
   ],
   "metadata": {
    "collapsed": false
   }
  },
  {
   "cell_type": "code",
   "execution_count": 56,
   "outputs": [],
   "source": [
    "frameSize = (1920, 1080)\n",
    "\n",
    "\n",
    "#use 15 fps rate\n",
    "\n",
    "out = cv2.VideoWriter('Tracking_hw/output_video_with_gt.avi', cv2.VideoWriter_fourcc(*'MJPG'), 15, frameSize)\n",
    "\n",
    "frame=1\n",
    "i=0 #number of image\n",
    "for filename in glob.glob('Tracking_hw/img1/*.jpg'):\n",
    "    img = cv2.imread(filename)\n",
    "    i+=1\n",
    "    if i % 15 == 0:\n",
    "        frame+=15 #next frame\n",
    "    for _, row in gt[gt['frame']==frame].iterrows():\n",
    "        xmin, xmax, ymin, ymax = int(row[\"xmin\"]), int(row['xmax']), int(row['ymin']), int(row['ymax'])\n",
    "        opacity = row['visibility']\n",
    "        id = int(row[\"id\"])\n",
    "        cv2.rectangle(img, (xmin, ymin), (xmax, ymax), color=bgr_palette[id], thickness=2)\n",
    "\n",
    "    out.write(img)\n",
    "\n",
    "out.release()"
   ],
   "metadata": {
    "collapsed": false,
    "ExecuteTime": {
     "end_time": "2023-07-18T14:25:52.423195200Z",
     "start_time": "2023-07-18T14:25:33.031491500Z"
    }
   }
  },
  {
   "cell_type": "code",
   "execution_count": 4,
   "outputs": [],
   "source": [
    "def create_video(image_dir):\n",
    "    frameSize = (1920, 1080)\n",
    "\n",
    "    out = cv2.VideoWriter(f'{image_dir}/output_video.avi', cv2.VideoWriter_fourcc(*'MJPG'), 15, frameSize)\n",
    "\n",
    "    for filename in glob.glob(f'{image_dir}/img1/*.jpg'):\n",
    "        img = cv2.imread(filename)\n",
    "        out.write(img)\n",
    "\n",
    "    out.release()"
   ],
   "metadata": {
    "collapsed": false,
    "ExecuteTime": {
     "end_time": "2023-07-18T13:31:11.838302800Z",
     "start_time": "2023-07-18T13:31:11.818746800Z"
    }
   }
  },
  {
   "cell_type": "code",
   "execution_count": 7,
   "outputs": [],
   "source": [
    "IMAGE_DIR = \"Tracking_hw\""
   ],
   "metadata": {
    "collapsed": false,
    "ExecuteTime": {
     "end_time": "2023-07-18T13:55:31.346869400Z",
     "start_time": "2023-07-18T13:55:31.346362700Z"
    }
   }
  },
  {
   "cell_type": "markdown",
   "source": [
    "### Make video from frames without detection"
   ],
   "metadata": {
    "collapsed": false
   }
  },
  {
   "cell_type": "code",
   "execution_count": 6,
   "outputs": [],
   "source": [
    "create_video(IMAGE_DIR)"
   ],
   "metadata": {
    "collapsed": false,
    "ExecuteTime": {
     "end_time": "2023-07-18T13:32:00.832334Z",
     "start_time": "2023-07-18T13:31:36.162906700Z"
    }
   }
  },
  {
   "cell_type": "markdown",
   "source": [
    "### Add single object tracker to video (detection free)"
   ],
   "metadata": {
    "collapsed": false
   }
  },
  {
   "cell_type": "markdown",
   "source": [
    "Choose one of the trackers"
   ],
   "metadata": {
    "collapsed": false
   }
  },
  {
   "cell_type": "code",
   "execution_count": 84,
   "outputs": [
    {
     "ename": "error",
     "evalue": "OpenCV(4.8.0) D:\\a\\opencv-python\\opencv-python\\opencv\\modules\\dnn\\src\\caffe\\caffe_io.cpp:1138: error: (-2:Unspecified error) FAILED: fs.is_open(). Can't open \"goturn.caffemodel\" in function 'cv::dnn::ReadProtoFromBinaryFile'\n",
     "output_type": "error",
     "traceback": [
      "\u001B[1;31m---------------------------------------------------------------------------\u001B[0m",
      "\u001B[1;31merror\u001B[0m                                     Traceback (most recent call last)",
      "Cell \u001B[1;32mIn[84], line 15\u001B[0m\n\u001B[0;32m     13\u001B[0m     tracker \u001B[38;5;241m=\u001B[39m cv2\u001B[38;5;241m.\u001B[39mlegacy\u001B[38;5;241m.\u001B[39mTrackerMedianFlow_create()\n\u001B[0;32m     14\u001B[0m \u001B[38;5;28;01mif\u001B[39;00m tracker_type \u001B[38;5;241m==\u001B[39m \u001B[38;5;124m'\u001B[39m\u001B[38;5;124mGOTURN\u001B[39m\u001B[38;5;124m'\u001B[39m:\n\u001B[1;32m---> 15\u001B[0m     tracker \u001B[38;5;241m=\u001B[39m \u001B[43mcv2\u001B[49m\u001B[38;5;241;43m.\u001B[39;49m\u001B[43mTrackerGOTURN_create\u001B[49m\u001B[43m(\u001B[49m\u001B[43m)\u001B[49m\n\u001B[0;32m     16\u001B[0m \u001B[38;5;28;01mif\u001B[39;00m tracker_type \u001B[38;5;241m==\u001B[39m \u001B[38;5;124m'\u001B[39m\u001B[38;5;124mMOSSE\u001B[39m\u001B[38;5;124m'\u001B[39m:\n\u001B[0;32m     17\u001B[0m     tracker \u001B[38;5;241m=\u001B[39m cv2\u001B[38;5;241m.\u001B[39mlegacy\u001B[38;5;241m.\u001B[39mTrackerMOSSE_create()\n",
      "\u001B[1;31merror\u001B[0m: OpenCV(4.8.0) D:\\a\\opencv-python\\opencv-python\\opencv\\modules\\dnn\\src\\caffe\\caffe_io.cpp:1138: error: (-2:Unspecified error) FAILED: fs.is_open(). Can't open \"goturn.caffemodel\" in function 'cv::dnn::ReadProtoFromBinaryFile'\n"
     ]
    }
   ],
   "source": [
    "tracker_types = ['BOOSTING', 'MIL','KCF', 'TLD', 'MEDIANFLOW', 'GOTURN', 'MOSSE', 'CSRT']\n",
    "tracker_type = tracker_types[5]\n",
    "\n",
    "if tracker_type == 'BOOSTING':\n",
    "    tracker = cv2.legacy.TrackerBoosting_create()\n",
    "if tracker_type == 'MIL':\n",
    "    tracker = cv2.TrackerMIL_create()\n",
    "if tracker_type == 'KCF':\n",
    "    tracker = cv2.TrackerKCF_create()\n",
    "if tracker_type == 'TLD':\n",
    "    tracker = cv2.legacy.TrackerTLD_create()\n",
    "if tracker_type == 'MEDIANFLOW':\n",
    "    tracker = cv2.legacy.TrackerMedianFlow_create()\n",
    "if tracker_type == 'GOTURN':\n",
    "    tracker = cv2.TrackerGOTURN_create()\n",
    "if tracker_type == 'MOSSE':\n",
    "    tracker = cv2.legacy.TrackerMOSSE_create()\n",
    "if tracker_type == \"CSRT\":\n",
    "    tracker = cv2.TrackerCSRT_create()"
   ],
   "metadata": {
    "collapsed": false,
    "ExecuteTime": {
     "end_time": "2023-07-18T16:28:25.731025400Z",
     "start_time": "2023-07-18T16:28:25.708449700Z"
    }
   }
  },
  {
   "cell_type": "code",
   "execution_count": 80,
   "outputs": [
    {
     "data": {
      "text/plain": "< cv2.TrackerCSRT 000001F9808A2ED0>"
     },
     "execution_count": 80,
     "metadata": {},
     "output_type": "execute_result"
    }
   ],
   "source": [
    "tracker"
   ],
   "metadata": {
    "collapsed": false,
    "ExecuteTime": {
     "end_time": "2023-07-18T16:00:57.742499Z",
     "start_time": "2023-07-18T16:00:57.733731600Z"
    }
   }
  },
  {
   "cell_type": "markdown",
   "source": [
    "Save the video with tracked object (object should be selected at the first frame)"
   ],
   "metadata": {
    "collapsed": false
   }
  },
  {
   "cell_type": "code",
   "execution_count": 11,
   "outputs": [
    {
     "ename": "error",
     "evalue": "OpenCV(4.8.0) D:\\a\\opencv-python\\opencv-python\\opencv\\modules\\imgproc\\src\\resize.cpp:4062: error: (-215:Assertion failed) !ssize.empty() in function 'cv::resize'\n",
     "output_type": "error",
     "traceback": [
      "\u001B[1;31m---------------------------------------------------------------------------\u001B[0m",
      "\u001B[1;31merror\u001B[0m                                     Traceback (most recent call last)",
      "Cell \u001B[1;32mIn[11], line 20\u001B[0m\n\u001B[0;32m     18\u001B[0m \u001B[38;5;28;01mwhile\u001B[39;00m \u001B[38;5;28;01mTrue\u001B[39;00m:\n\u001B[0;32m     19\u001B[0m     ret, frame \u001B[38;5;241m=\u001B[39m video\u001B[38;5;241m.\u001B[39mread()\n\u001B[1;32m---> 20\u001B[0m     frame \u001B[38;5;241m=\u001B[39m \u001B[43mcv2\u001B[49m\u001B[38;5;241;43m.\u001B[39;49m\u001B[43mresize\u001B[49m\u001B[43m(\u001B[49m\u001B[43mframe\u001B[49m\u001B[43m,\u001B[49m\u001B[43m \u001B[49m\u001B[43m[\u001B[49m\u001B[43mframe_width\u001B[49m\u001B[38;5;241;43m/\u001B[39;49m\u001B[38;5;241;43m/\u001B[39;49m\u001B[38;5;241;43m2\u001B[39;49m\u001B[43m,\u001B[49m\u001B[43m \u001B[49m\u001B[43mframe_height\u001B[49m\u001B[38;5;241;43m/\u001B[39;49m\u001B[38;5;241;43m/\u001B[39;49m\u001B[38;5;241;43m2\u001B[39;49m\u001B[43m]\u001B[49m\u001B[43m)\u001B[49m\n\u001B[0;32m     21\u001B[0m     \u001B[38;5;28;01mif\u001B[39;00m \u001B[38;5;129;01mnot\u001B[39;00m ret:\n\u001B[0;32m     22\u001B[0m         \u001B[38;5;28mprint\u001B[39m(\u001B[38;5;124m'\u001B[39m\u001B[38;5;124msomething went wrong\u001B[39m\u001B[38;5;124m'\u001B[39m)\n",
      "\u001B[1;31merror\u001B[0m: OpenCV(4.8.0) D:\\a\\opencv-python\\opencv-python\\opencv\\modules\\imgproc\\src\\resize.cpp:4062: error: (-215:Assertion failed) !ssize.empty() in function 'cv::resize'\n"
     ]
    }
   ],
   "source": [
    "# Get the video file and read it\n",
    "video = cv2.VideoCapture(f'{IMAGE_DIR}/output_video.avi')\n",
    "ret, frame = video.read()\n",
    "\n",
    "frame_height, frame_width = frame.shape[:2]\n",
    "# Resize the video for a more convinient view\n",
    "frame = cv2.resize(frame, [frame_width//2, frame_height//2])\n",
    "# Initialize video writer to save the results\n",
    "output = cv2.VideoWriter(f'{IMAGE_DIR}/{tracker_type}.avi',\n",
    "                         cv2.VideoWriter_fourcc(*'MJPG'), 15,\n",
    "                         (frame_width//2, frame_height//2), True)\n",
    "if not ret:\n",
    "    print('cannot read the video')\n",
    "# Select the bounding box in the first frame\n",
    "bbox = cv2.selectROI(frame, False)\n",
    "ret = tracker.init(frame, bbox)\n",
    "# Start tracking\n",
    "while True:\n",
    "    ret, frame = video.read()\n",
    "    frame = cv2.resize(frame, [frame_width//2, frame_height//2])\n",
    "    if not ret:\n",
    "        print('something went wrong')\n",
    "        break\n",
    "    timer = cv2.getTickCount()\n",
    "    ret, bbox = tracker.update(frame)\n",
    "    fps = cv2.getTickFrequency() / (cv2.getTickCount() - timer)\n",
    "    if ret:\n",
    "        p1 = (int(bbox[0]), int(bbox[1]))\n",
    "        p2 = (int(bbox[0] + bbox[2]), int(bbox[1] + bbox[3]))\n",
    "        cv2.rectangle(frame, p1, p2, (255,0,0), 2, 1)\n",
    "    else:\n",
    "        cv2.putText(frame, \"Tracking failure detected\", (100,80),\n",
    "                    cv2.FONT_HERSHEY_SIMPLEX, 0.75,(0,0,255),2)\n",
    "    cv2.putText(frame, tracker_type + \" Tracker\", (100,20),\n",
    "                cv2.FONT_HERSHEY_SIMPLEX, 0.75, (50,170,50),2)\n",
    "    cv2.putText(frame, \"FPS : \" + str(int(fps)), (100,50),\n",
    "                cv2.FONT_HERSHEY_SIMPLEX, 0.75, (50,170,50),2)\n",
    "    cv2.imshow(\"Tracking\", frame)\n",
    "    output.write(frame)\n",
    "    k = cv2.waitKey(1) & 0xff\n",
    "    if k == 27 : break\n",
    "\n",
    "video.release()\n",
    "output.release()\n",
    "cv2.destroyAllWindows()"
   ],
   "metadata": {
    "collapsed": false,
    "ExecuteTime": {
     "end_time": "2023-07-18T13:56:12.822507Z",
     "start_time": "2023-07-18T13:55:49.846481700Z"
    }
   }
  },
  {
   "cell_type": "code",
   "execution_count": 60,
   "outputs": [
    {
     "name": "stdout",
     "output_type": "stream",
     "text": [
      "4.8.0\n"
     ]
    }
   ],
   "source": [
    "print(cv2.__version__)"
   ],
   "metadata": {
    "collapsed": false,
    "ExecuteTime": {
     "end_time": "2023-07-18T15:54:25.636302700Z",
     "start_time": "2023-07-18T15:54:25.620662800Z"
    }
   }
  },
  {
   "cell_type": "code",
   "execution_count": null,
   "outputs": [],
   "source": [],
   "metadata": {
    "collapsed": false
   }
  }
 ],
 "metadata": {
  "kernelspec": {
   "display_name": "Python 3",
   "language": "python",
   "name": "python3"
  },
  "language_info": {
   "codemirror_mode": {
    "name": "ipython",
    "version": 2
   },
   "file_extension": ".py",
   "mimetype": "text/x-python",
   "name": "python",
   "nbconvert_exporter": "python",
   "pygments_lexer": "ipython2",
   "version": "2.7.6"
  }
 },
 "nbformat": 4,
 "nbformat_minor": 0
}
