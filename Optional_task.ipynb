{
 "cells": [
  {
   "cell_type": "code",
   "execution_count": 18,
   "metadata": {
    "collapsed": true,
    "ExecuteTime": {
     "end_time": "2023-07-13T13:12:44.988377200Z",
     "start_time": "2023-07-13T13:12:43.775230600Z"
    }
   },
   "outputs": [],
   "source": [
    "import cv2\n",
    "import pandas as pd\n",
    "import numpy as np\n",
    "import glob\n",
    "\n",
    "import pandas as pd\n",
    "import seaborn as sns"
   ]
  },
  {
   "cell_type": "code",
   "execution_count": 5,
   "outputs": [],
   "source": [
    "data = pd.read_csv(\"Tracking_hw/gt.csv\")"
   ],
   "metadata": {
    "collapsed": false,
    "ExecuteTime": {
     "end_time": "2023-07-13T12:59:33.138955500Z",
     "start_time": "2023-07-13T12:59:33.114338800Z"
    }
   }
  },
  {
   "cell_type": "code",
   "execution_count": 8,
   "outputs": [
    {
     "data": {
      "text/plain": "    frame  id  xmin  ymin  class  visibility  xmax  ymax\n0       1   0   586   447      1    1.000000   671   710\n1       1   1  1056   484      1    0.945950  1092   594\n2       1   2  1091   484      1    1.000000  1122   599\n3       1   3  1016   430      1    0.986870  1056   546\n4       1   4  1101   441      1    0.658430  1139   549\n5       1   5   935   436      1    0.417390   977   550\n6       1   6   442   446      1    1.000000   547   729\n7       1   7   473   460      1    0.166670   562   709\n8       1   8   548   465      1    0.527780   583   558\n9       1  12   418   459      1    0.585370   458   543\n10      1  13   582   456      1    0.111110   617   589\n11     16  14   638   454      1    0.002349   676   584\n12     16  13   581   456      1    0.166670   616   590\n13     16   8   547   464      1    0.222220   582   557\n14     16   7   483   460      1    0.022222   572   709\n15     16   6   446   445      1    1.000000   570   731\n16     16  12   418   459      1    0.682930   458   543\n17     16   4  1100   440      1    0.648320  1138   548\n18     16   3  1014   436      1    1.000000  1054   552\n19     16   2  1090   484      1    1.000000  1122   598\n20     16   1  1055   483      1    0.946430  1091   593\n21     16   0   587   444      1    1.000000   674   711\n22     16   5   933   435      1    0.426090   975   549\n23     31  14   640   456      1    0.000000   679   589\n24     31  13   581   455      1    0.224250   616   591\n25     31  12   419   459      1    1.000000   458   543\n26     31   9   496   456      1    0.000000   523   558\n27     31   8   547   463      1    0.000000   582   556\n28     31   7   500   460      1    0.022222   589   709\n29     31   6   473   444      1    1.000000   587   733",
      "text/html": "<div>\n<style scoped>\n    .dataframe tbody tr th:only-of-type {\n        vertical-align: middle;\n    }\n\n    .dataframe tbody tr th {\n        vertical-align: top;\n    }\n\n    .dataframe thead th {\n        text-align: right;\n    }\n</style>\n<table border=\"1\" class=\"dataframe\">\n  <thead>\n    <tr style=\"text-align: right;\">\n      <th></th>\n      <th>frame</th>\n      <th>id</th>\n      <th>xmin</th>\n      <th>ymin</th>\n      <th>class</th>\n      <th>visibility</th>\n      <th>xmax</th>\n      <th>ymax</th>\n    </tr>\n  </thead>\n  <tbody>\n    <tr>\n      <th>0</th>\n      <td>1</td>\n      <td>0</td>\n      <td>586</td>\n      <td>447</td>\n      <td>1</td>\n      <td>1.000000</td>\n      <td>671</td>\n      <td>710</td>\n    </tr>\n    <tr>\n      <th>1</th>\n      <td>1</td>\n      <td>1</td>\n      <td>1056</td>\n      <td>484</td>\n      <td>1</td>\n      <td>0.945950</td>\n      <td>1092</td>\n      <td>594</td>\n    </tr>\n    <tr>\n      <th>2</th>\n      <td>1</td>\n      <td>2</td>\n      <td>1091</td>\n      <td>484</td>\n      <td>1</td>\n      <td>1.000000</td>\n      <td>1122</td>\n      <td>599</td>\n    </tr>\n    <tr>\n      <th>3</th>\n      <td>1</td>\n      <td>3</td>\n      <td>1016</td>\n      <td>430</td>\n      <td>1</td>\n      <td>0.986870</td>\n      <td>1056</td>\n      <td>546</td>\n    </tr>\n    <tr>\n      <th>4</th>\n      <td>1</td>\n      <td>4</td>\n      <td>1101</td>\n      <td>441</td>\n      <td>1</td>\n      <td>0.658430</td>\n      <td>1139</td>\n      <td>549</td>\n    </tr>\n    <tr>\n      <th>5</th>\n      <td>1</td>\n      <td>5</td>\n      <td>935</td>\n      <td>436</td>\n      <td>1</td>\n      <td>0.417390</td>\n      <td>977</td>\n      <td>550</td>\n    </tr>\n    <tr>\n      <th>6</th>\n      <td>1</td>\n      <td>6</td>\n      <td>442</td>\n      <td>446</td>\n      <td>1</td>\n      <td>1.000000</td>\n      <td>547</td>\n      <td>729</td>\n    </tr>\n    <tr>\n      <th>7</th>\n      <td>1</td>\n      <td>7</td>\n      <td>473</td>\n      <td>460</td>\n      <td>1</td>\n      <td>0.166670</td>\n      <td>562</td>\n      <td>709</td>\n    </tr>\n    <tr>\n      <th>8</th>\n      <td>1</td>\n      <td>8</td>\n      <td>548</td>\n      <td>465</td>\n      <td>1</td>\n      <td>0.527780</td>\n      <td>583</td>\n      <td>558</td>\n    </tr>\n    <tr>\n      <th>9</th>\n      <td>1</td>\n      <td>12</td>\n      <td>418</td>\n      <td>459</td>\n      <td>1</td>\n      <td>0.585370</td>\n      <td>458</td>\n      <td>543</td>\n    </tr>\n    <tr>\n      <th>10</th>\n      <td>1</td>\n      <td>13</td>\n      <td>582</td>\n      <td>456</td>\n      <td>1</td>\n      <td>0.111110</td>\n      <td>617</td>\n      <td>589</td>\n    </tr>\n    <tr>\n      <th>11</th>\n      <td>16</td>\n      <td>14</td>\n      <td>638</td>\n      <td>454</td>\n      <td>1</td>\n      <td>0.002349</td>\n      <td>676</td>\n      <td>584</td>\n    </tr>\n    <tr>\n      <th>12</th>\n      <td>16</td>\n      <td>13</td>\n      <td>581</td>\n      <td>456</td>\n      <td>1</td>\n      <td>0.166670</td>\n      <td>616</td>\n      <td>590</td>\n    </tr>\n    <tr>\n      <th>13</th>\n      <td>16</td>\n      <td>8</td>\n      <td>547</td>\n      <td>464</td>\n      <td>1</td>\n      <td>0.222220</td>\n      <td>582</td>\n      <td>557</td>\n    </tr>\n    <tr>\n      <th>14</th>\n      <td>16</td>\n      <td>7</td>\n      <td>483</td>\n      <td>460</td>\n      <td>1</td>\n      <td>0.022222</td>\n      <td>572</td>\n      <td>709</td>\n    </tr>\n    <tr>\n      <th>15</th>\n      <td>16</td>\n      <td>6</td>\n      <td>446</td>\n      <td>445</td>\n      <td>1</td>\n      <td>1.000000</td>\n      <td>570</td>\n      <td>731</td>\n    </tr>\n    <tr>\n      <th>16</th>\n      <td>16</td>\n      <td>12</td>\n      <td>418</td>\n      <td>459</td>\n      <td>1</td>\n      <td>0.682930</td>\n      <td>458</td>\n      <td>543</td>\n    </tr>\n    <tr>\n      <th>17</th>\n      <td>16</td>\n      <td>4</td>\n      <td>1100</td>\n      <td>440</td>\n      <td>1</td>\n      <td>0.648320</td>\n      <td>1138</td>\n      <td>548</td>\n    </tr>\n    <tr>\n      <th>18</th>\n      <td>16</td>\n      <td>3</td>\n      <td>1014</td>\n      <td>436</td>\n      <td>1</td>\n      <td>1.000000</td>\n      <td>1054</td>\n      <td>552</td>\n    </tr>\n    <tr>\n      <th>19</th>\n      <td>16</td>\n      <td>2</td>\n      <td>1090</td>\n      <td>484</td>\n      <td>1</td>\n      <td>1.000000</td>\n      <td>1122</td>\n      <td>598</td>\n    </tr>\n    <tr>\n      <th>20</th>\n      <td>16</td>\n      <td>1</td>\n      <td>1055</td>\n      <td>483</td>\n      <td>1</td>\n      <td>0.946430</td>\n      <td>1091</td>\n      <td>593</td>\n    </tr>\n    <tr>\n      <th>21</th>\n      <td>16</td>\n      <td>0</td>\n      <td>587</td>\n      <td>444</td>\n      <td>1</td>\n      <td>1.000000</td>\n      <td>674</td>\n      <td>711</td>\n    </tr>\n    <tr>\n      <th>22</th>\n      <td>16</td>\n      <td>5</td>\n      <td>933</td>\n      <td>435</td>\n      <td>1</td>\n      <td>0.426090</td>\n      <td>975</td>\n      <td>549</td>\n    </tr>\n    <tr>\n      <th>23</th>\n      <td>31</td>\n      <td>14</td>\n      <td>640</td>\n      <td>456</td>\n      <td>1</td>\n      <td>0.000000</td>\n      <td>679</td>\n      <td>589</td>\n    </tr>\n    <tr>\n      <th>24</th>\n      <td>31</td>\n      <td>13</td>\n      <td>581</td>\n      <td>455</td>\n      <td>1</td>\n      <td>0.224250</td>\n      <td>616</td>\n      <td>591</td>\n    </tr>\n    <tr>\n      <th>25</th>\n      <td>31</td>\n      <td>12</td>\n      <td>419</td>\n      <td>459</td>\n      <td>1</td>\n      <td>1.000000</td>\n      <td>458</td>\n      <td>543</td>\n    </tr>\n    <tr>\n      <th>26</th>\n      <td>31</td>\n      <td>9</td>\n      <td>496</td>\n      <td>456</td>\n      <td>1</td>\n      <td>0.000000</td>\n      <td>523</td>\n      <td>558</td>\n    </tr>\n    <tr>\n      <th>27</th>\n      <td>31</td>\n      <td>8</td>\n      <td>547</td>\n      <td>463</td>\n      <td>1</td>\n      <td>0.000000</td>\n      <td>582</td>\n      <td>556</td>\n    </tr>\n    <tr>\n      <th>28</th>\n      <td>31</td>\n      <td>7</td>\n      <td>500</td>\n      <td>460</td>\n      <td>1</td>\n      <td>0.022222</td>\n      <td>589</td>\n      <td>709</td>\n    </tr>\n    <tr>\n      <th>29</th>\n      <td>31</td>\n      <td>6</td>\n      <td>473</td>\n      <td>444</td>\n      <td>1</td>\n      <td>1.000000</td>\n      <td>587</td>\n      <td>733</td>\n    </tr>\n  </tbody>\n</table>\n</div>"
     },
     "execution_count": 8,
     "metadata": {},
     "output_type": "execute_result"
    }
   ],
   "source": [
    "data.head(30)"
   ],
   "metadata": {
    "collapsed": false,
    "ExecuteTime": {
     "end_time": "2023-07-13T12:59:47.506465500Z",
     "start_time": "2023-07-13T12:59:47.489541200Z"
    }
   }
  },
  {
   "cell_type": "code",
   "execution_count": 17,
   "outputs": [
    {
     "data": {
      "text/plain": "id\n12    40\n8     40\n2     40\n3     40\n4     40\n5     40\n1     40\n7     40\n0     39\n9     38\n6     37\n17    36\n13    35\n14    35\n11    35\n15    31\n10    29\n16    26\nName: count, dtype: int64"
     },
     "execution_count": 17,
     "metadata": {},
     "output_type": "execute_result"
    }
   ],
   "source": [
    "data['id'].value_counts()"
   ],
   "metadata": {
    "collapsed": false,
    "ExecuteTime": {
     "end_time": "2023-07-13T13:11:29.940718Z",
     "start_time": "2023-07-13T13:11:29.928224900Z"
    }
   }
  },
  {
   "cell_type": "code",
   "execution_count": 30,
   "outputs": [],
   "source": [
    "iter = 18\n",
    "palette = list(reversed(sns.color_palette(\"Spectral_r\", iter)))"
   ],
   "metadata": {
    "collapsed": false,
    "ExecuteTime": {
     "end_time": "2023-07-13T13:24:22.209009900Z",
     "start_time": "2023-07-13T13:24:22.201864900Z"
    }
   }
  },
  {
   "cell_type": "code",
   "execution_count": 31,
   "outputs": [
    {
     "data": {
      "text/plain": "[(0.7295655517108804, 0.12587466359092658, 0.2848135332564399),\n (0.8376778162245291, 0.2467512495194156, 0.308881199538639),\n (0.9044213763936948, 0.34794309880815066, 0.28304498269896194),\n (0.9596309111880047, 0.44744329104190694, 0.27197231833910035),\n (0.9790080738177624, 0.5873894655901576, 0.336562860438293),\n (0.9926951172625913, 0.7092656670511341, 0.4029988465974625),\n (0.9948481353325644, 0.8169165705497885, 0.49342560553633213),\n (0.9968473663975395, 0.9022683583237218, 0.5850826605151866),\n (0.9990003844675125, 0.9690119184928874, 0.697039600153787),\n (0.9750096116878124, 0.9900038446751249, 0.7100346020761246),\n (0.9211841599384853, 0.9684736639753941, 0.6260668973471742),\n (0.829373317954633, 0.9312572087658594, 0.6108419838523644),\n (0.7023452518262208, 0.8795847750865052, 0.6366782006920415),\n (0.5697808535178779, 0.8272202998846598, 0.6445982314494426),\n (0.4212226066897348, 0.7690888119953864, 0.6467512495194156),\n (0.31203383314109967, 0.6626682045367167, 0.6876585928489043),\n (0.2000768935024991, 0.5377931564782776, 0.7393310265282583),\n (0.2806612841214917, 0.423760092272203, 0.6892733564013841)]"
     },
     "execution_count": 31,
     "metadata": {},
     "output_type": "execute_result"
    }
   ],
   "source": [
    "palette"
   ],
   "metadata": {
    "collapsed": false,
    "ExecuteTime": {
     "end_time": "2023-07-13T13:24:22.734133500Z",
     "start_time": "2023-07-13T13:24:22.727600200Z"
    }
   }
  },
  {
   "cell_type": "code",
   "execution_count": 37,
   "outputs": [],
   "source": [
    "frameSize = (1920, 1080)\n",
    "\n",
    "out = cv2.VideoWriter('Tracking_hw/output_video.avi', cv2.VideoWriter_fourcc(*'MJPG'), 15, frameSize)\n",
    "\n",
    "frame=1\n",
    "i=0 #number of image\n",
    "for filename in glob.glob('Tracking_hw/img1/*.jpg'):\n",
    "    img = cv2.imread(filename)\n",
    "    i+=1\n",
    "    if i % 15 == 0:\n",
    "        frame+=15\n",
    "    for _, row in data[data['frame']==frame].iterrows():\n",
    "        xmin, xmax, ymin, ymax = int(row[\"xmin\"]), int(row['xmax']), int(row['ymin']), int(row['ymax'])\n",
    "        opacity = row['visibility']\n",
    "        id = int(row[\"id\"])\n",
    "        cv2.rectangle(img, (xmin, ymin), (xmax, ymax), color=palette[id-1], thickness=3)\n",
    "\n",
    "    out.write(img)\n",
    "\n",
    "out.release()"
   ],
   "metadata": {
    "collapsed": false,
    "ExecuteTime": {
     "end_time": "2023-07-13T13:43:47.037252800Z",
     "start_time": "2023-07-13T13:43:27.393664600Z"
    }
   }
  },
  {
   "cell_type": "code",
   "execution_count": 10,
   "outputs": [],
   "source": [
    "# Create a VideoCapture object and read from input file\n",
    "# If the input is the camera, pass 0 instead of the video file name\n",
    "cap = cv2.VideoCapture(\"Tracking_hw/output_video.avi\")\n",
    "\n",
    "\n",
    "# Check if camera opened successfully\n",
    "if (cap.isOpened()== False):\n",
    "  print(\"Error opening video stream or file\")\n",
    "\n",
    "# Read until video is completed\n",
    "while(cap.isOpened()):\n",
    "  # Capture frame-by-frame\n",
    "  ret, frame = cap.read()\n",
    "\n",
    "  if ret == True:\n",
    "\n",
    "    # Display the resulting frame\n",
    "    cv2.imshow('Frame',frame)\n",
    "\n",
    "\n",
    "    # Press Q on keyboard to  exit\n",
    "    if cv2.waitKey(25) & 0xFF == ord('q'):\n",
    "      break\n",
    "\n",
    "  # Break the loop\n",
    "  else:\n",
    "    break\n",
    "\n",
    "# When everything done, release the video capture object\n",
    "cap.release()\n",
    "\n",
    "# Closes all the frames\n",
    "cv2.destroyAllWindows()"
   ],
   "metadata": {
    "collapsed": false,
    "ExecuteTime": {
     "end_time": "2023-07-13T13:01:03.553588600Z",
     "start_time": "2023-07-13T13:00:35.417420Z"
    }
   }
  },
  {
   "cell_type": "code",
   "execution_count": null,
   "outputs": [],
   "source": [],
   "metadata": {
    "collapsed": false
   }
  }
 ],
 "metadata": {
  "kernelspec": {
   "display_name": "Python 3",
   "language": "python",
   "name": "python3"
  },
  "language_info": {
   "codemirror_mode": {
    "name": "ipython",
    "version": 2
   },
   "file_extension": ".py",
   "mimetype": "text/x-python",
   "name": "python",
   "nbconvert_exporter": "python",
   "pygments_lexer": "ipython2",
   "version": "2.7.6"
  }
 },
 "nbformat": 4,
 "nbformat_minor": 0
}
